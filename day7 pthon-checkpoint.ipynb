{
 "cells": [
  {
   "cell_type": "code",
   "execution_count": 9,
   "metadata": {},
   "outputs": [
    {
     "name": "stdout",
     "output_type": "stream",
     "text": [
      "64 16 36 "
     ]
    }
   ],
   "source": [
    "#input : list1 = {4,3,6,8}\n",
    "#output : list2 = {16,9,36,64}\n",
    "#output : 16 9 36 64\n",
    "\n",
    "\n",
    "list1 = {4,3,6,8}\n",
    "list2 = []\n",
    "for i in list1:\n",
    "    if i%2 == 0:\n",
    "         list2.append(i*i)\n",
    "for i in list2:\n",
    "    print(i,end=\" \")"
   ]
  },
  {
   "cell_type": "code",
   "execution_count": 7,
   "metadata": {},
   "outputs": [
    {
     "data": {
      "text/plain": [
       "[64, 16, 36]"
      ]
     },
     "execution_count": 7,
     "metadata": {},
     "output_type": "execute_result"
    }
   ],
   "source": [
    "#list comprehension\n",
    "list3 = [i*i for i in list1 if i%2==0]\n",
    "list3"
   ]
  },
  {
   "cell_type": "markdown",
   "metadata": {},
   "source": [
    "## Functions"
   ]
  },
  {
   "cell_type": "code",
   "execution_count": 11,
   "metadata": {},
   "outputs": [
    {
     "name": "stdout",
     "output_type": "stream",
     "text": [
      "30\n",
      "None\n"
     ]
    }
   ],
   "source": [
    "#def function name(arugument list):\n",
    "# ---------\n",
    "# ---------\n",
    "# return\n",
    "def add(x,y):\n",
    "    print(x+y)\n",
    "print(add(10,20))"
   ]
  },
  {
   "cell_type": "code",
   "execution_count": 41,
   "metadata": {},
   "outputs": [
    {
     "data": {
      "text/plain": [
       "True"
      ]
     },
     "execution_count": 41,
     "metadata": {},
     "output_type": "execute_result"
    }
   ],
   "source": [
    "# create a function and check whether the given number is pallindrome or not\n",
    "def pallindrome(n):\n",
    "    rev = 0\n",
    "    temp = n\n",
    "    while n!= 0:\n",
    "     rev = (rev*10)+(n%10)\n",
    "     n = n//10\n",
    "    if temp == rev:\n",
    "        return True\n",
    "    else:\n",
    "        return False\n",
    "pallindrome(121)"
   ]
  },
  {
   "cell_type": "code",
   "execution_count": 32,
   "metadata": {},
   "outputs": [
    {
     "name": "stdout",
     "output_type": "stream",
     "text": [
      "120\n",
      "3628800\n"
     ]
    }
   ],
   "source": [
    "#write a factorial to return factorial of a given number\n",
    "def factorial(n):\n",
    "    fact = 1\n",
    "    for i in range(1,n+1):\n",
    "        fact *=i\n",
    "    return fact\n",
    "print(factorial(5))\n",
    "print(factorial(10))"
   ]
  },
  {
   "cell_type": "code",
   "execution_count": 56,
   "metadata": {},
   "outputs": [
    {
     "name": "stdout",
     "output_type": "stream",
     "text": [
      "YES\n",
      "NO\n"
     ]
    }
   ],
   "source": [
    "#factorial sum\n",
    "def factorial(n):\n",
    "    fact = 1\n",
    "    for i in range(1,n+1):\n",
    "        fact *=i\n",
    "    return fact\n",
    "def factor_sum(n):\n",
    "    sum = 0\n",
    "    temp = n\n",
    "    while n!=0:\n",
    "        r = n%10\n",
    "        sum += factorial(r)\n",
    "        n = n//10\n",
    "    if temp == sum:\n",
    "        return\"YES\"\n",
    "    else:\n",
    "        return\"NO\"\n",
    "print(factor_sum(145))\n",
    "print(factor_sum(120))"
   ]
  },
  {
   "cell_type": "code",
   "execution_count": 60,
   "metadata": {},
   "outputs": [
    {
     "name": "stdout",
     "output_type": "stream",
     "text": [
      "20\n",
      "30\n"
     ]
    },
    {
     "data": {
      "text/plain": [
       "50"
      ]
     },
     "execution_count": 60,
     "metadata": {},
     "output_type": "execute_result"
    }
   ],
   "source": [
    "# Types of arguments\n",
    "#1.required positional arguments\n",
    "#2.default arguments\n",
    "#3.key-word arguments\n",
    "#4.variable-length arugument\n",
    "def add(x,z):\n",
    "    print(x)\n",
    "    print(z)\n",
    "    return x+z\n",
    "add(z=30,x=20)"
   ]
  },
  {
   "cell_type": "code",
   "execution_count": 63,
   "metadata": {},
   "outputs": [
    {
     "name": "stdout",
     "output_type": "stream",
     "text": [
      "181\n",
      "150\n"
     ]
    }
   ],
   "source": [
    "def add(*x):\n",
    "    s = 0\n",
    "    for i in x:\n",
    "        s += i\n",
    "    return s\n",
    "print(add(12,23,34,45,67))\n",
    "print(add(10,20,30,40,50))"
   ]
  },
  {
   "cell_type": "markdown",
   "metadata": {},
   "source": [
    "## module"
   ]
  },
  {
   "cell_type": "code",
   "execution_count": 67,
   "metadata": {},
   "outputs": [
    {
     "data": {
      "text/plain": [
       "120"
      ]
     },
     "execution_count": 67,
     "metadata": {},
     "output_type": "execute_result"
    }
   ],
   "source": [
    "from math import factorial\n",
    "factorial(5)"
   ]
  },
  {
   "cell_type": "code",
   "execution_count": 72,
   "metadata": {},
   "outputs": [],
   "source": [
    "#1. random --> generating random numbers\n",
    "#2. statistics -->statistics related operations\n",
    "#3. os -->working with directories\n",
    "#4. turtle -->graphics\n",
    "#5. sqlite3 -->database\n",
    "#6. tkinter -->gui\n",
    "#7. smtplib -->sendind mails using python code\n",
    "\n"
   ]
  },
  {
   "cell_type": "code",
   "execution_count": 73,
   "metadata": {},
   "outputs": [],
   "source": [
    "#file handling\n",
    "#operation--->open,write,close,reading\n",
    "#mod--->read(r),write(w),append(a)\n",
    "f = open(\"data.txt\",'w')\n",
    "f.write(\"hello everyone\")\n",
    "f.close()"
   ]
  },
  {
   "cell_type": "code",
   "execution_count": 7,
   "metadata": {},
   "outputs": [],
   "source": [
    "f = open(\"data.txt\",'a')\n",
    "f.write(\"Gud mrng\")\n",
    "f.close()"
   ]
  },
  {
   "cell_type": "code",
   "execution_count": 6,
   "metadata": {},
   "outputs": [
    {
     "name": "stdout",
     "output_type": "stream",
     "text": [
      "hello everyone\n"
     ]
    }
   ],
   "source": [
    "f = open(\"data.txt\",'r')\n",
    "data = f.read()\n",
    "print(data)\n",
    "f.close()"
   ]
  },
  {
   "cell_type": "code",
   "execution_count": 10,
   "metadata": {},
   "outputs": [
    {
     "name": "stdout",
     "output_type": "stream",
     "text": [
      "no of characters: 14\n",
      "no of words: 2\n"
     ]
    }
   ],
   "source": [
    "print(\"no of characters:\",len(data))\n",
    "print(\"no of words:\",len(data.split()))"
   ]
  },
  {
   "cell_type": "code",
   "execution_count": 14,
   "metadata": {},
   "outputs": [
    {
     "name": "stdout",
     "output_type": "stream",
     "text": [
      "6\n"
     ]
    }
   ],
   "source": [
    "#count the no of vowels in the given files\n",
    "vowels = \"aeioeAEIOU\"\n",
    "count = 0\n",
    "for i in data:\n",
    "    if i in vowels:\n",
    "        count+=1\n",
    "print(count)"
   ]
  },
  {
   "cell_type": "markdown",
   "metadata": {},
   "source": [
    "# 1.Create a folder using python code\n",
    "# 2. goto that folder and create random no of files\n",
    "# 3. Each and every file name should be unique\n",
    "# 4. Add content into the file and file content should be unique from each and every file\n",
    "# 5. File size should be 512kb"
   ]
  },
  {
   "cell_type": "code",
   "execution_count": null,
   "metadata": {},
   "outputs": [],
   "source": []
  }
 ],
 "metadata": {
  "kernelspec": {
   "display_name": "Python 3",
   "language": "python",
   "name": "python3"
  }
 },
 "nbformat": 4,
 "nbformat_minor": 2
}
